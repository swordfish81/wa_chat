{
 "cells": [
  {
   "cell_type": "markdown",
   "id": "3e860e98",
   "metadata": {},
   "source": [
    "**Step 1. Get, transform data!!**"
   ]
  },
  {
   "cell_type": "code",
   "execution_count": null,
   "id": "9ab42610",
   "metadata": {},
   "outputs": [],
   "source": [
    "## Creation date: May 28, 2023"
   ]
  },
  {
   "cell_type": "code",
   "execution_count": null,
   "id": "4865b39d",
   "metadata": {},
   "outputs": [],
   "source": [
    "import pandas as pd\n",
    "import flair\n",
    "import numpy as np\n",
    "from matplotlib import pyplot as plt\n",
    "import matplotlib.dates as mdates\n",
    "import seaborn as sns\n",
    "\n",
    "import warnings\n",
    "warnings.simplefilter(action='ignore', category=FutureWarning)\n",
    "\n",
    "pd.options.mode.chained_assignment = None  # default='warn'\n",
    "\n",
    "plt.rc('xtick', labelsize=8)\n",
    "plt.rc('ytick', labelsize=8)"
   ]
  },
  {
   "cell_type": "code",
   "execution_count": null,
   "id": "b075cc3a",
   "metadata": {},
   "outputs": [],
   "source": [
    "# Run once or skip!\n",
    "#flair_sentiment = flair.models.TextClassifier.load('en-sentiment')"
   ]
  },
  {
   "cell_type": "code",
   "execution_count": null,
   "id": "59c120e2",
   "metadata": {},
   "outputs": [],
   "source": [
    "sns.set_style(\"whitegrid\")\n",
    "sns.set_context(\"notebook\")"
   ]
  },
  {
   "cell_type": "markdown",
   "id": "288c85c4",
   "metadata": {},
   "source": [
    "### Read in txt file\n",
    "---\n",
    "\n",
    "Transform data. Replace chat.txt with an exported (and renamed) copy of the Whatsapp chat"
   ]
  },
  {
   "cell_type": "code",
   "execution_count": null,
   "id": "46360330",
   "metadata": {},
   "outputs": [],
   "source": [
    "# bring in data and give it column name 'text'\n",
    "data = pd.read_table('chat2.txt', names=['text'], header=None)\n",
    "\n",
    "# Drop the first line which has the boilerplate Whatsapp text\n",
    "data = data.iloc[2:]"
   ]
  },
  {
   "cell_type": "code",
   "execution_count": null,
   "id": "a17bfb29",
   "metadata": {},
   "outputs": [],
   "source": [
    "#print(data[0:2].values)\n",
    "#data.head()"
   ]
  },
  {
   "cell_type": "code",
   "execution_count": null,
   "id": "f795b5bd",
   "metadata": {},
   "outputs": [],
   "source": [
    "# Extract date and time from messages\n",
    "data.loc[:, 'date'] = data['text'].str.extract(r'(\\d{2}/\\d{2}/\\d{4})')\n",
    "data.loc[:, 'time'] = data['text'].str.extract(r'(\\d{2}:\\d{2})')"
   ]
  },
  {
   "cell_type": "code",
   "execution_count": null,
   "id": "3fd51fdd",
   "metadata": {},
   "outputs": [],
   "source": [
    "# Update text column to now have purely just the text.\n",
    "data['text'] = data['text'].str.replace(r'\\d{2}/\\d{2}/\\d{4},\\s\\d{2}:\\d{2}\\s-\\s', '', regex=True)"
   ]
  },
  {
   "cell_type": "code",
   "execution_count": null,
   "id": "5b6d998f",
   "metadata": {},
   "outputs": [],
   "source": [
    "# Get the names\n",
    "data['sender'] = data['text'].apply(lambda x: x.split(':')[0] if '' in x else None)\n",
    "\n",
    "# fill na\n",
    "data['sender'].fillna(method='ffill', inplace=True)\n",
    "\n",
    "# Convert date column from object to datetime as we need to later extract month from it.\n",
    "data['date'] = pd.to_datetime(data['date'], format='%d/%m/%Y').dt.strftime('%Y-%m-%d')\n",
    "\n",
    "# Remove names before the text\n",
    "data['sender'] = data['text'].apply(lambda x: x.split(':')[0] + ':' if 'Flor Valente' in x or 'John B' in x else None)\n",
    "\n",
    "# Cleaning up sender. !!!! Silly way of doing it\n",
    "data['sender'] = data['sender'].str.rstrip(':')\n",
    "\n",
    "# Remove the names preceeding text\n",
    "data['text'] = data['text'].str.replace('Flor Valente:|John B:', '', regex=True)"
   ]
  },
  {
   "cell_type": "code",
   "execution_count": null,
   "id": "d83894e0",
   "metadata": {},
   "outputs": [],
   "source": [
    "# Cleaned data\n",
    "#data.head(10)"
   ]
  },
  {
   "cell_type": "code",
   "execution_count": null,
   "id": "0fc0bdc4",
   "metadata": {},
   "outputs": [],
   "source": [
    "# Forward fill on date and time when multiple messages are sent.\n",
    "\n",
    "data['date'] = data['date'].fillna(method='bfill')\n",
    "data['time'] = data['time'].fillna(method='bfill')\n",
    "\n",
    "# Forward fill on sender when multiple messages are sent.\n",
    "data['sender'] = data['sender'].replace('', np.nan)\n",
    "data['sender'] = data['sender'].fillna(method='bfill')"
   ]
  },
  {
   "cell_type": "code",
   "execution_count": null,
   "id": "41fc143c",
   "metadata": {},
   "outputs": [],
   "source": [
    "# Cleaned up data\n",
    "#data.head(10)"
   ]
  },
  {
   "cell_type": "code",
   "execution_count": null,
   "id": "286d2cd5",
   "metadata": {},
   "outputs": [],
   "source": [
    "# Get rid of media\n",
    "data = data[~data[\"text\"].str.contains(\"omitted\", na=False)]\n",
    "\n",
    "# Get month from date\n",
    "\n",
    "data['date'] = pd.to_datetime(data['date'])\n",
    "data['month'] = data['date'].dt.month"
   ]
  },
  {
   "cell_type": "code",
   "execution_count": null,
   "id": "b479b480",
   "metadata": {},
   "outputs": [],
   "source": [
    "#df_filtered = data[data['date'] <= '2023-05-31']"
   ]
  },
  {
   "cell_type": "code",
   "execution_count": null,
   "id": "b5614f85",
   "metadata": {},
   "outputs": [],
   "source": [
    "# Create a copy\n",
    "new_df = data.copy()"
   ]
  },
  {
   "cell_type": "markdown",
   "id": "36e83e7d",
   "metadata": {},
   "source": [
    "---\n",
    "## Total messages sent per person"
   ]
  },
  {
   "cell_type": "code",
   "execution_count": null,
   "id": "22f5c458",
   "metadata": {},
   "outputs": [],
   "source": [
    "tot_msg = new_df[['text']].count()\n",
    "\n",
    "# Step 2: Find earliest and latest dates\n",
    "earliest_date = new_df['date'].min()\n",
    "latest_date = new_df['date'].max()\n",
    "\n",
    "# Step 3: Calculate time difference\n",
    "time_diff = latest_date - earliest_date\n",
    "\n",
    "# Step 4: Extract total number of days\n",
    "total_days = time_diff.days\n",
    "\n",
    "avg_msgs_per_day = float(tot_msg/total_days)\n"
   ]
  },
  {
   "cell_type": "code",
   "execution_count": null,
   "id": "c4633b64",
   "metadata": {},
   "outputs": [],
   "source": [
    "print(\"Total number of days:\", total_days)\n",
    "print(\"Total messages:\", tot_msg.to_string())\n",
    "print(\"Avg messages per day:\", avg_msgs_per_day)"
   ]
  },
  {
   "cell_type": "code",
   "execution_count": null,
   "id": "46a4d0aa",
   "metadata": {},
   "outputs": [],
   "source": [
    "new_chart = new_df.groupby('sender')['text'].count() #new_df[['text','sender']].groupby(by=['sender'])['text'].count()\n",
    "new_chart.plot.bar(stacked=False, figsize=(10, 5), rot=0, alpha=0.5, fontsize=8)\n",
    "\n",
    "plt.grid(True, alpha=0.15)\n",
    "plt.xlabel('Sender', fontsize=8)\n",
    "plt.ylabel('Count of Tot. Msgs', fontsize=8)\n",
    "plt.title('Tot Msgs/Person', fontsize=8)\n",
    "plt.show()"
   ]
  },
  {
   "cell_type": "markdown",
   "id": "aad2823d",
   "metadata": {},
   "source": [
    "---\n",
    "## Plot count of messages by month\n",
    "---\n",
    "\n",
    "Change month_order if required. Currently starts from October through September"
   ]
  },
  {
   "cell_type": "code",
   "execution_count": null,
   "id": "97d0f463",
   "metadata": {},
   "outputs": [],
   "source": [
    "#Convert month to categorical data so that it starts from Month 10\n",
    "# Define the desired order of months\n",
    "\n",
    "new_df['month_name'] = new_df['date'].dt.strftime('%B')\n",
    "month_order = ['October', 'November', 'December', 'January', 'February', 'March', 'April', 'May',\n",
    "               'June', 'July', 'August', 'September']\n",
    "\n",
    "# Convert month column to categorical data type with desired order\n",
    "new_df['month_name'] = pd.Categorical(new_df['month_name'], categories=month_order, ordered=True)\n",
    "monthly_grouped = new_df.groupby(['sender', 'month_name']).size().reset_index(name='count')\n",
    "\n",
    "# Drop some months like July, August where there were no chats.\n",
    "monthly_grouped = monthly_grouped.query('count > 0')"
   ]
  },
  {
   "cell_type": "code",
   "execution_count": null,
   "id": "ee8f065a",
   "metadata": {},
   "outputs": [],
   "source": [
    "senders = monthly_grouped['sender'].unique()\n",
    "markers = ['o', 's', '^', 'd']  # List of line markers\n",
    "\n",
    "plt.figure(figsize=(10, 5))\n",
    "\n",
    "for i, sender in enumerate(senders):\n",
    "    \n",
    "    sender_data = monthly_grouped[monthly_grouped['sender'] == sender]\n",
    "    marker = markers[i % len(markers)]  # Select marker cyclically\n",
    "    plt.plot(sender_data['month_name'], sender_data['count'], label=sender, marker=marker)\n",
    "\n",
    "    # Show values on the last point\n",
    "    last_value = sender_data['count'].iloc[-1]\n",
    "    last_month = sender_data['month_name'].iloc[-1]\n",
    "    plt.text(last_month, last_value, str(last_value), ha='left', va='baseline', fontsize=8)\n",
    "\n",
    "plt.grid(True, alpha=0.05)\n",
    "\n",
    "# Set plot properties\n",
    "plt.xlabel('Month', fontsize=8)\n",
    "plt.xticks(fontsize=8)\n",
    "\n",
    "plt.ylabel('Text Count', fontsize=8)\n",
    "plt.yticks(fontsize=8)\n",
    "\n",
    "plt.title('Count of Texts Sent by Sender, Grouped by Month', fontsize=8)\n",
    "\n",
    "plt.axhline(y=300, color='k', linestyle='--', linewidth=0.5)\n",
    "plt.axhline(y=600, color='k', linestyle='--', linewidth=0.5)\n",
    "plt.axhline(y=800, color='r', linestyle='--', linewidth=0.5)\n",
    "\n",
    "plt.legend(fontsize=8)\n",
    "\n",
    "# Show the plot\n",
    "plt.show()"
   ]
  },
  {
   "cell_type": "code",
   "execution_count": null,
   "id": "e6b1cd20",
   "metadata": {},
   "outputs": [],
   "source": [
    "import calendar\n",
    "\n",
    "# Group the dataframe by month_name and count the number of texts in each month\n",
    "monthly_counts = new_df.groupby('month_name')['text'].count()\n",
    "\n",
    "# Drop months with zero values\n",
    "monthly_counts = monthly_counts[monthly_counts != 0]\n",
    "\n",
    "# Get the month names and order them starting from October\n",
    "month_names = list(calendar.month_name)[10:] + list(calendar.month_name)[1:10]\n",
    "\n",
    "plt.figure(figsize=(10, 5))\n",
    "# Plotting the bar chart\n",
    "bars = plt.bar(monthly_counts.index, monthly_counts.values)\n",
    "\n",
    "plt.xlabel('Month', fontsize=8)\n",
    "plt.xticks(month_names, rotation=45, fontsize=8)  # Use month names for x-axis labels\n",
    "\n",
    "plt.ylabel('Total Texts', fontsize=8)\n",
    "plt.yticks(fontsize=8)\n",
    "\n",
    "plt.axhline(y=194, color='k', linestyle='--', linewidth=0.5, label='October')\n",
    "\n",
    "# Calculate the average excluding July\n",
    "average_excluding_july = monthly_counts.drop('July').mean()\n",
    "\n",
    "plt.axhline(y=average_excluding_july, color='r', linestyle='--', linewidth=0.5, label='Average (excluding July)')\n",
    "\n",
    "plt.grid(True, alpha=0.05)\n",
    "plt.title('Total Texts per Month', fontsize=8)\n",
    "\n",
    "# Displaying the values on top of each bar\n",
    "for bar in bars:\n",
    "    yval = bar.get_height()\n",
    "    plt.text(bar.get_x() + bar.get_width() / 2, yval, yval, ha='center', va='bottom', fontsize=8)\n",
    "\n",
    "plt.legend(fontsize=8)  # Add a legend to display the labels for the lines\n",
    "\n",
    "plt.show()\n"
   ]
  },
  {
   "cell_type": "code",
   "execution_count": null,
   "id": "d4c0d953",
   "metadata": {},
   "outputs": [],
   "source": [
    "#new_df.to_csv(\"chat.csv\")"
   ]
  },
  {
   "cell_type": "code",
   "execution_count": null,
   "id": "df7fae18",
   "metadata": {},
   "outputs": [],
   "source": [
    "new_df[['date','sender','text']]\n",
    "\n",
    "# Convert date column to datetime\n",
    "new_df['date'] = pd.to_datetime(new_df['date'])\n",
    "\n",
    "# Group by date and sender, and count the messages\n",
    "timeline = new_df.groupby(['date', 'sender']).size().reset_index(name='count')\n",
    "\n",
    "# Pivot the data to have sender1 and sender2 as separate columns\n",
    "pivot_data = timeline.pivot(index='date', columns='sender', values='count')\n",
    "\n",
    "# Plot the line charts\n",
    "fig, ax = plt.subplots(figsize=(10, 5))\n",
    "senders = pivot_data.columns\n",
    "\n",
    "linestyles = ['-', '--']  # Specify different linestyles for each sender\n",
    "markers = ['.']\n",
    "\n",
    "for i, sender in enumerate(senders):\n",
    "    linestyle = linestyles[i % len(linestyles)]  # Cycle through the linestyles\n",
    "    marker = markers[i % len(markers)]\n",
    "    ax.plot(pivot_data.index, pivot_data[sender], linestyle=linestyle, marker=marker, label=sender, linewidth=0.5)\n",
    "\n",
    "# Set x-axis formatter to display full date\n",
    "date_formatter = mdates.DateFormatter('%Y-%m-%d')\n",
    "ax.xaxis.set_major_formatter(date_formatter)\n",
    "\n",
    "plt.grid(True, alpha=0.05)\n",
    "\n",
    "# Set plot properties\n",
    "plt.xlabel('Date', fontsize=8)\n",
    "plt.xticks(fontsize=8)\n",
    "\n",
    "plt.ylabel('Message Count', fontsize=8)\n",
    "plt.yticks(fontsize=8)\n",
    "\n",
    "plt.axhline(y=0, color='k', linestyle='--', linewidth=0.5)\n",
    "plt.axhline(y=avg_msgs_per_day, color='k', linestyle='--', linewidth=0.5)\n",
    "\n",
    "plt.title('Count of Messages by Date and Sender', fontsize=8)\n",
    "plt.legend(fontsize=8)\n",
    "\n",
    "# Show the plot\n",
    "plt.show()"
   ]
  },
  {
   "cell_type": "markdown",
   "id": "25bdd1a3",
   "metadata": {},
   "source": [
    "`random_dates` variable to be updated for dates."
   ]
  },
  {
   "cell_type": "code",
   "execution_count": null,
   "id": "91499f41",
   "metadata": {},
   "outputs": [],
   "source": [
    "import datetime\n",
    "\n",
    "random_dates = ['2022-10-29','2022-12-18','2023-03-19','2023-04-01', \n",
    "                '2023-04-29','2023-05-14','2023-06-10', '2023-06-14',\n",
    "               '2023-06-28','2023-07-02']\n",
    "\n",
    "# Group by date and sender, and count the messages\n",
    "tot_timeline = new_df.groupby(['date', 'sender']).size().reset_index(name='count')\n",
    "\n",
    "# Pivot the data to have sender1 and sender2 as separate columns\n",
    "pivot_data = tot_timeline.pivot(index='date', columns='sender', values='count')\n",
    "\n",
    "# Calculate the total messages by date\n",
    "total_messages_by_date = pivot_data.sum(axis=1)\n",
    "\n",
    "# Calculate the 30-day rolling average\n",
    "rolling_average = total_messages_by_date.rolling(window=30).mean()\n",
    "\n",
    "# Convert date strings to datetime objects\n",
    "converted_dates = [datetime.datetime.strptime(date, '%Y-%m-%d').date() for date in random_dates]\n",
    "\n",
    "# Plot the total messages by date\n",
    "fig, ax = plt.subplots(figsize=(10, 5))\n",
    "ax.plot(total_messages_by_date.index, total_messages_by_date, linestyle='-', marker='.', linewidth=0.5, color='k')\n",
    "\n",
    "# Plot the rolling average line\n",
    "ax.plot(total_messages_by_date.index, rolling_average, linestyle='-', color='r', label='30-day Average')\n",
    "\n",
    "# Plot vertical lines for random dates\n",
    "for date in converted_dates:\n",
    "    ax.axvline(x=date, color='b', linestyle=':', linewidth=0.5)\n",
    "\n",
    "# Set x-axis formatter to display full date\n",
    "date_formatter = mdates.DateFormatter('%Y-%m-%d')\n",
    "ax.xaxis.set_major_formatter(date_formatter)\n",
    "\n",
    "plt.grid(True, alpha=0.05)\n",
    "\n",
    "# Set plot properties\n",
    "plt.xlabel('Date', fontsize=8)\n",
    "plt.xticks(fontsize=8)\n",
    "\n",
    "plt.ylabel('Total Message Count', fontsize=8)\n",
    "plt.yticks(fontsize=8)\n",
    "\n",
    "plt.axhline(y=0, color='k', linestyle='--', linewidth=0.5)\n",
    "\n",
    "plt.title('Total Messages by \"Date\"', fontsize=8)\n",
    "\n",
    "# Add a legend\n",
    "plt.legend(fontsize=8)\n",
    "\n",
    "# Show the plot\n",
    "plt.show()\n"
   ]
  },
  {
   "cell_type": "code",
   "execution_count": null,
   "id": "eac3ace2",
   "metadata": {
    "scrolled": false
   },
   "outputs": [],
   "source": [
    "pd.set_option('display.max_colwidth', None)\n",
    "\n",
    "#new_df.query(\"date == '2023-05-29'\")[:50]\n",
    "#new_df.query(\"text.str.contains('coffee', case=False) and date == '2023-05-12'\")\n",
    "#new_df.query(\"date == '2023-06-14'\")\n",
    "#new_df.query(\"text.str.contains('lanc', case=False)\")\n",
    "\n",
    "# 2023-04-24\n",
    "# 2023-05-28\n",
    "# 2023-05-29"
   ]
  },
  {
   "cell_type": "markdown",
   "id": "cfd20786",
   "metadata": {},
   "source": [
    "---\n",
    "### Text sentiment analysis? (flair)"
   ]
  },
  {
   "cell_type": "code",
   "execution_count": null,
   "id": "5fa3dec0",
   "metadata": {},
   "outputs": [],
   "source": [
    "sentiment = []\n",
    "score = []\n",
    "\n",
    "def run_sentiment(text_input):\n",
    "    \n",
    "    sentence = flair.data.Sentence(text_input)\n",
    "    \n",
    "    flair_sentiment.predict(sentence)\n",
    "    feeling = sentence.labels[0].value\n",
    "    prob = sentence.score\n",
    "    \n",
    "    sentiment.append(feeling)\n",
    "    score.append(prob)\n",
    "    \n",
    "    \n",
    "new_df['text'].apply(lambda x: run_sentiment(x))\n",
    "# Add 'sentiment' and 'score' columns to DataFrame\n",
    "new_df['sentiment'] = sentiment\n",
    "new_df['score'] = score"
   ]
  },
  {
   "cell_type": "code",
   "execution_count": null,
   "id": "b2f4a86a",
   "metadata": {},
   "outputs": [],
   "source": [
    "new_df['sentiment_score'] = new_df.apply(lambda row: row['score'] if row['sentiment'] == 'POSITIVE' else -row['score'], axis=1)\n",
    "#new_df.head()"
   ]
  },
  {
   "cell_type": "code",
   "execution_count": null,
   "id": "5c729ed3",
   "metadata": {},
   "outputs": [],
   "source": [
    "sum_sentiment_score = new_df.groupby('sender')['sentiment_score'].sum()\n",
    "avg_sentiment_score = new_df.groupby('sender')['sentiment_score'].mean()\n",
    "\n",
    "# Print the sum and average sentiment scores\n",
    "for sender in sum_sentiment_score.index:\n",
    "    print(\"Sender:\", sender)\n",
    "    print(\"Sum of Sentiment Score:\", sum_sentiment_score[sender])\n",
    "    print(\"Average Sentiment Score:\", avg_sentiment_score[sender])\n",
    "    print()"
   ]
  },
  {
   "cell_type": "code",
   "execution_count": null,
   "id": "eb1111dd",
   "metadata": {},
   "outputs": [],
   "source": [
    "# Calculate the sum of 'sentiment_score' by 'month_name'\n",
    "sum_sentiment_score_month = new_df.groupby('month_name')['sentiment_score'].sum()\n",
    "\n",
    "# Plot the bar chart\n",
    "sum_sentiment_score_month.plot.bar(figsize=(10, 5), rot=0, alpha=0.5)\n",
    "\n",
    "# Set plot properties\n",
    "plt.grid(True, alpha=0.05)\n",
    "plt.xlabel('Month', fontsize=8)\n",
    "plt.xticks(fontsize=8)\n",
    "\n",
    "plt.ylabel('Sum of Sentiment Score', fontsize=8)\n",
    "plt.yticks(fontsize=8)\n",
    "\n",
    "plt.axhline(y=0, color='k', linestyle='--', linewidth=0.5)\n",
    "\n",
    "plt.title('Sum of Sentiment Score by Month', fontsize=8)\n",
    "\n",
    "# Show the plot\n",
    "plt.show()\n"
   ]
  },
  {
   "cell_type": "code",
   "execution_count": null,
   "id": "957759bc",
   "metadata": {},
   "outputs": [],
   "source": [
    "# Calculate the sum of 'sentiment_score' by 'sender'\n",
    "sum_sentiment_score_sender = new_df.groupby('sender')['sentiment_score'].sum()\n",
    "\n",
    "# Plot the bar chart\n",
    "sum_sentiment_score_sender.plot.bar(figsize=(10, 5), rot=0, alpha=0.5)\n",
    "\n",
    "# Set plot properties\n",
    "plt.grid(True, alpha=0.05)\n",
    "plt.xlabel('Sender', fontsize=8)\n",
    "plt.xticks(fontsize=8)\n",
    "plt.ylabel('Sum of Sentiment Score', fontsize=8)\n",
    "plt.yticks(fontsize=8)\n",
    "plt.title('Sum of Sentiment Score by Sender', fontsize=8)\n",
    "\n",
    "# Show the plot\n",
    "plt.show()\n"
   ]
  },
  {
   "cell_type": "code",
   "execution_count": null,
   "id": "c7077b8f",
   "metadata": {},
   "outputs": [],
   "source": [
    "\n",
    "# Group sentiment count by sender, month_name, and sentiment\n",
    "sentiment_count = new_df.groupby(['sender', 'month_name', 'sentiment']).size().unstack()\n",
    "\n",
    "# Get unique senders\n",
    "senders = sentiment_count.index.get_level_values('sender').unique()\n",
    "\n",
    "# Create subplots for each sender\n",
    "fig, axes = plt.subplots(nrows=len(senders), ncols=1, figsize=(10, 5 * len(senders)))\n",
    "\n",
    "# Iterate over senders and plot stacked bar chart for each sender\n",
    "for i, sender in enumerate(senders):\n",
    "    sender_data = sentiment_count.loc[sender]\n",
    "    sender_data.plot.bar(stacked=False, ax=axes[i], rot=0, alpha=0.5)\n",
    "\n",
    "    # Set plot properties for each subplot\n",
    "    axes[i].grid(True, alpha=0.05)\n",
    "    axes[i].set_xlabel('Month', fontsize=8)\n",
    "    axes[i].set_ylabel('Count', fontsize=8)\n",
    "    axes[i].set_title('Count of Positive and Negative Scores by Month - {}'.format(sender), fontsize=8)\n",
    "    axes[i].legend(title='Sentiment', loc='best', fontsize=8)\n",
    "    axes[i].tick_params(axis='x', labelrotation=45, labelsize=8)\n",
    "    axes[i].tick_params(axis='y', labelsize=8)\n",
    "\n",
    "# Adjust the layout of subplots\n",
    "plt.tight_layout()\n",
    "\n",
    "# Show the plot\n",
    "plt.show()\n"
   ]
  },
  {
   "cell_type": "code",
   "execution_count": null,
   "id": "c34650fd",
   "metadata": {},
   "outputs": [],
   "source": [
    "# Group sentiment count by sender\n",
    "#sentiment_score = new_df.groupby(['sender', 'sentiment']).size().unstack()\n",
    "sentiment_score = new_df.groupby(['sender', 'sentiment'])['sentiment_score'].sum().unstack()\n",
    "\n",
    "# Plot stacked bar chart\n",
    "sentiment_score.plot.bar(stacked=False, figsize=(10, 5), rot=0, alpha=0.5)\n",
    "\n",
    "# Set plot properties\n",
    "plt.grid(True, alpha=0.15)\n",
    "\n",
    "plt.xlabel('Sender', fontsize=8)\n",
    "plt.xticks(fontsize=8)\n",
    "\n",
    "plt.ylabel('Sentiment Count', fontsize=8)\n",
    "plt.yticks(fontsize=8)\n",
    "\n",
    "plt.axhline(y=0, color='k', linestyle='--', linewidth=0.5)\n",
    "\n",
    "plt.title('Sentiment Count by Sender', fontsize=8)\n",
    "plt.legend(loc='best', fontsize=8)\n",
    "\n",
    "# Show the plot\n",
    "plt.show()"
   ]
  },
  {
   "cell_type": "markdown",
   "id": "a0051347",
   "metadata": {},
   "source": [
    "`sender_names`: Update to the names in your chat"
   ]
  },
  {
   "cell_type": "code",
   "execution_count": null,
   "id": "a1c48069",
   "metadata": {},
   "outputs": [],
   "source": [
    "# Define the sender names\n",
    "sender_names = ['Person One', 'Person Two']\n",
    "\n",
    "# Create a figure with two subplots\n",
    "fig, axes = plt.subplots(nrows=1, ncols=2, figsize=(12, 5))\n",
    "\n",
    "# Iterate over the sender names and corresponding subplots\n",
    "for i, sender_name in enumerate(sender_names):\n",
    "    # Filter the dataframe for the current sender\n",
    "    sender_df = new_df[new_df['sender'] == sender_name]\n",
    "\n",
    "    # Group sentiment count by month and sentiment\n",
    "    sentiment_score = sender_df.groupby(['month_name', 'sentiment']).size().unstack()\n",
    "\n",
    "    # Plot stacked bar chart on the corresponding subplot\n",
    "    sentiment_score.plot.bar(ax=axes[i], stacked=False, rot=0, alpha=0.5)\n",
    "\n",
    "    # Set plot properties for the current subplot\n",
    "    axes[i].grid(True, alpha=0.05)\n",
    "    axes[i].set_xlabel('Month', fontsize=8)\n",
    "    axes[i].set_ylabel('Sentiment Count', fontsize=8)\n",
    "    axes[i].set_title('Sentiment Count by Month - {sender_name}'.format(sender_name=sender_name), fontsize=8)\n",
    "    axes[i].legend(loc='best', fontsize=8)\n",
    "\n",
    "    # Set tick label font size and rotation\n",
    "    axes[i].tick_params(axis='x', labelrotation=45, labelsize=8)\n",
    "    axes[i].tick_params(axis='y', labelsize=8)\n",
    "\n",
    "# Adjust the layout of subplots\n",
    "plt.tight_layout()\n",
    "\n",
    "# Show the plot\n",
    "plt.show()\n"
   ]
  },
  {
   "cell_type": "markdown",
   "id": "f9098235",
   "metadata": {},
   "source": [
    "## Sentiment breakdown by month\n",
    "---"
   ]
  },
  {
   "cell_type": "code",
   "execution_count": null,
   "id": "f458c3c1",
   "metadata": {},
   "outputs": [],
   "source": [
    "# Define the start and end dates for filtering\n",
    "start_date = '2023-06-01'\n",
    "end_date = '2023-06-29'\n",
    "\n",
    "# Create a figure with two subplots\n",
    "fig, axes = plt.subplots(nrows=1, ncols=2, figsize=(12, 5))\n",
    "\n",
    "# Iterate over the sender names and corresponding subplots\n",
    "for i, sender_name in enumerate(sender_names):\n",
    "    # Filter the dataframe for the current sender and date range\n",
    "    sender_df = new_df[(new_df['sender'] == sender_name) & (new_df['date'] >= start_date) & (new_df['date'] <= end_date)]\n",
    "\n",
    "    # Group sentiment count by day of the month and sentiment\n",
    "    sentiment_score = sender_df.groupby([sender_df['date'].dt.day, 'sentiment']).size().unstack()\n",
    "\n",
    "    # Plot stacked bar chart on the corresponding subplot\n",
    "    sentiment_score.plot.bar(ax=axes[i], stacked=False, rot=0, alpha=0.5)\n",
    "\n",
    "    # Set plot properties for the current subplot\n",
    "    axes[i].grid(True, alpha=0.05)\n",
    "    axes[i].set_ylabel('Sentiment Count', fontsize=8)\n",
    "    axes[i].set_title('Sentiment Count by Day - {sender_name}'.format(sender_name=sender_name), fontsize=8)\n",
    "    axes[i].legend(loc='best', fontsize=8)\n",
    "\n",
    "    # Set x-axis tick labels\n",
    "    axes[i].set_xticklabels(sentiment_score.index, fontsize=8, rotation=45)\n",
    "\n",
    "    # Set tick label font size for y-axis\n",
    "    axes[i].tick_params(axis='y', labelsize=8)\n",
    "\n",
    "# Adjust the layout of subplots\n",
    "plt.tight_layout()\n",
    "\n",
    "# Show the plot\n",
    "plt.show()\n"
   ]
  },
  {
   "cell_type": "markdown",
   "id": "2509be8d",
   "metadata": {},
   "source": [
    "---"
   ]
  },
  {
   "cell_type": "markdown",
   "id": "0c0aed6a",
   "metadata": {},
   "source": [
    "## Message Count\n",
    "---"
   ]
  },
  {
   "cell_type": "code",
   "execution_count": null,
   "id": "d244d104",
   "metadata": {},
   "outputs": [],
   "source": [
    "try:\n",
    "    # Convert the time column to proper time format without seconds\n",
    "    new_df['time'] = pd.to_datetime(new_df['time'], format='%H:%M').dt.time\n",
    "\n",
    "    # Create the datetime column by combining the date and time columns\n",
    "    new_df['datetime'] = pd.to_datetime(new_df['date']) + pd.to_timedelta(new_df['time'].astype(str))\n",
    "    \n",
    "    print(\"Conversion to datetime is done...\")\n",
    "    \n",
    "except ValueError:\n",
    "    # Skip the code execution if ValueError occurs\n",
    "    print(\"Conversion to datetime already done...\")\n",
    "    pass"
   ]
  },
  {
   "cell_type": "code",
   "execution_count": null,
   "id": "9caaa75a",
   "metadata": {},
   "outputs": [],
   "source": [
    "# Sort dataframe by date and time\n",
    "df = new_df.sort_values(['date', 'time','month_name'])\n",
    "\n",
    "# Get the first message of the day for each sender\n",
    "first_message_df = df.groupby(['date', 'sender']).first().reset_index()\n",
    "\n",
    "# Calculate the monthly average for each sender\n",
    "monthly_avg_df = first_message_df.pivot_table(index='month_name', columns='sender', values='text', aggfunc='count')\n",
    "\n",
    "# Plot the chart\n",
    "monthly_avg_df.plot(kind='bar', stacked=False, figsize=(10, 5), rot=0, alpha=0.5)\n",
    "\n",
    "# Customize the chart\n",
    "plt.grid(True, alpha=0.15)\n",
    "plt.xlabel('Month', fontsize=8)\n",
    "plt.xticks(fontsize=8)\n",
    "\n",
    "plt.ylabel('Average First Message Count', fontsize=8)\n",
    "plt.yticks(fontsize=8)\n",
    "\n",
    "plt.title('Average First Message Count per Month', fontsize=8)\n",
    "plt.legend(fontsize=8)\n",
    "\n",
    "plt.show()"
   ]
  },
  {
   "cell_type": "markdown",
   "id": "189feca2",
   "metadata": {},
   "source": [
    "---\n",
    "## Get response times"
   ]
  },
  {
   "cell_type": "code",
   "execution_count": null,
   "id": "907cc591",
   "metadata": {},
   "outputs": [],
   "source": [
    "#data.head()"
   ]
  },
  {
   "cell_type": "code",
   "execution_count": null,
   "id": "e5543424",
   "metadata": {},
   "outputs": [],
   "source": [
    "# Calculate the response time in minutes\n",
    "new_df['response_time'] = new_df.groupby('sender')['datetime'].diff().dt.total_seconds() / 60\n",
    "\n",
    "# Convert response time to hours\n",
    "new_df['response_time'] /= 60\n",
    "\n",
    "# Group by sender and month, and calculate the average response time\n",
    "average_response_time = new_df.groupby(['sender', 'month_name'])['response_time'].mean().reset_index()\n",
    "\n",
    "# Plot the average response times by month for each sender\n",
    "senders = average_response_time['sender'].unique()\n",
    "\n",
    "plt.figure(figsize=(10, 5))\n",
    "for sender in senders:\n",
    "    sender_data = average_response_time[average_response_time['sender'] == sender]\n",
    "    plt.plot(sender_data['month_name'], sender_data['response_time'], marker='.', label=sender, linewidth=1)\n",
    "\n",
    "plt.grid(True, alpha=0.05)\n",
    "plt.axhline(y=1, color='r', linestyle='-',linewidth=0.5)\n",
    "plt.text(0.05, 1 + 0.05, '1-Hr', color='r', fontsize=8, ha='center', va='bottom')\n",
    "\n",
    "plt.axhline(y=3, color='b', linestyle='--',linewidth=0.5)\n",
    "# Set plot properties\n",
    "plt.xlabel('Month', fontsize=8)\n",
    "plt.xticks(fontsize=8)\n",
    "\n",
    "plt.ylabel('Mean Response Time (hours)', fontsize=8)\n",
    "plt.yticks(fontsize=8)\n",
    "\n",
    "plt.title('Mean Response Time by Month/Sender', fontsize=8)\n",
    "plt.legend(fontsize=8)\n",
    "\n",
    "# Show the plot\n",
    "plt.show()"
   ]
  },
  {
   "cell_type": "markdown",
   "id": "e22b6987",
   "metadata": {},
   "source": [
    "Update Person One and Person Two with the names in the chat respectively"
   ]
  },
  {
   "cell_type": "code",
   "execution_count": null,
   "id": "2958384e",
   "metadata": {},
   "outputs": [],
   "source": [
    "# Filter the dataframe to contain only Sender1 and Sender2\n",
    "sender1_response_time = new_df[new_df['sender'] == 'Person One']['response_time']\n",
    "sender2_response_time = new_df[new_df['sender'] == 'Person Two']['response_time']\n",
    "\n",
    "# Calculate the average response time for Sender1 and Sender2\n",
    "average_response_time_sender1 = sender1_response_time.mean()\n",
    "average_response_time_sender2 = sender2_response_time.mean()\n",
    "\n",
    "# Calculate the overall average response time between Sender1 and Sender2\n",
    "overall_average_response_time = new_df['response_time'].mean()\n",
    "\n",
    "print(f\"Average response time for Flor: {average_response_time_sender1:.2f}\")\n",
    "print(f\"Average response time for John: {average_response_time_sender2:.2f}\")\n",
    "print(f\"Overall average response time between Flor and John: {overall_average_response_time:.2f}\")\n"
   ]
  },
  {
   "cell_type": "code",
   "execution_count": null,
   "id": "927a249d",
   "metadata": {},
   "outputs": [],
   "source": [
    "# Group by sender and month, and calculate the average response time\n",
    "average_response_time = new_df.groupby(['month_name', 'sender'])['response_time'].mean().unstack()\n",
    "\n",
    "# Plot the average response times by month for each sender\n",
    "average_response_time.plot.bar(figsize=(10, 5), alpha=0.5)\n",
    "\n",
    "# Set plot properties\n",
    "plt.grid(True, alpha=0.05)\n",
    "plt.axhline(y=1, color='r', linestyle='-', linewidth=0.5)\n",
    "plt.axhline(y=3, color='b', linestyle='--', linewidth=0.5)\n",
    "\n",
    "plt.xlabel('Month', fontsize=8)\n",
    "plt.xticks(fontsize=8, rotation='horizontal')\n",
    "\n",
    "plt.ylabel('Mean Response Time (hours)', fontsize=8)\n",
    "plt.yticks(fontsize=8)\n",
    "\n",
    "plt.title('Mean Response Time by Month/Sender', fontsize=8)\n",
    "plt.legend(fontsize=8)\n",
    "\n",
    "# Show the plot\n",
    "plt.show()\n"
   ]
  },
  {
   "cell_type": "markdown",
   "id": "22f3d657",
   "metadata": {},
   "source": [
    "`selected_month`: Choose any particular month (if it already exists in the month_name) to view for the particular month"
   ]
  },
  {
   "cell_type": "code",
   "execution_count": null,
   "id": "163ac42a",
   "metadata": {},
   "outputs": [],
   "source": [
    "\n",
    "# Filter the dataframe for the desired month\n",
    "selected_month = 'June'\n",
    "filtered_df = df.query(\"month_name == @selected_month\")\n",
    "\n",
    "# Calculate the average response time by dates in the selected month\n",
    "average_response_time = filtered_df.groupby('date')['datetime'].apply(lambda x: (x.max() - x.min()).seconds / 3600)\n",
    "\n",
    "# Plotting the bar chart\n",
    "plt.figure(figsize=(10, 5))\n",
    "plt.bar(average_response_time.index, average_response_time.values, alpha=0.75)\n",
    "\n",
    "plt.xlabel('Date', fontsize=8)\n",
    "plt.xticks(average_response_time.index, fontsize=8, rotation=45)\n",
    "\n",
    "plt.ylabel('Average Response Time (hours)', fontsize=8)\n",
    "plt.yticks(fontsize=8)\n",
    "\n",
    "plt.grid(True, alpha=0.05)\n",
    "plt.title(f'Average Response Time by Date - {selected_month}', fontsize=8)\n",
    "\n",
    "plt.show()\n"
   ]
  },
  {
   "cell_type": "markdown",
   "id": "3414d995",
   "metadata": {},
   "source": [
    "Update Person One and Person Two to the names in the chat"
   ]
  },
  {
   "cell_type": "code",
   "execution_count": null,
   "id": "896b01ec",
   "metadata": {},
   "outputs": [],
   "source": [
    "# Filter the dataframe for the desired month and senders\n",
    "selected_month = 'June'\n",
    "selected_senders = ['Person One', 'Person Two']  # Replace with the actual sender names\n",
    "filtered_df = df.query(\"month_name == @selected_month and sender in @selected_senders\")\n",
    "\n",
    "# Calculate the average response time by dates in the selected month and for the selected senders\n",
    "average_response_time = filtered_df.groupby(['date', 'sender'])['datetime'].apply(lambda x: (x.max() - x.min()).seconds / 3600)\n",
    "\n",
    "# Pivot the data to have senders as columns and dates as rows\n",
    "pivot_table = average_response_time.unstack()\n",
    "\n",
    "# Plotting the bar chart\n",
    "plt.figure(figsize=(10, 5))\n",
    "width = 0.35\n",
    "x = range(len(pivot_table.index))\n",
    "\n",
    "# Calculate the offset for each sender's bars\n",
    "offset = width / 2 * (len(selected_senders) - 1)\n",
    "\n",
    "# Plot the bars for each sender\n",
    "for i, sender in enumerate(pivot_table.columns):\n",
    "    plt.bar([xi + i * width - offset for xi in x], pivot_table[sender], width, label=sender, alpha=0.50)\n",
    "\n",
    "plt.xlabel('Date', fontsize=8)\n",
    "plt.xticks(x, pivot_table.index, fontsize=8, rotation=45)\n",
    "\n",
    "plt.ylabel('Average Response Time (hours)', fontsize=8)\n",
    "plt.yticks(fontsize=8)\n",
    "\n",
    "plt.grid(True, alpha=0.05)\n",
    "plt.title(f'Average Response Time by Date - {selected_month}', fontsize=8)\n",
    "plt.legend(fontsize=8)\n",
    "\n",
    "plt.show()\n"
   ]
  },
  {
   "cell_type": "markdown",
   "id": "c172592b",
   "metadata": {},
   "source": [
    "---\n",
    "## Average # of messages sent per person"
   ]
  },
  {
   "cell_type": "markdown",
   "id": "c4638203",
   "metadata": {},
   "source": [
    "Update Person One and Person Two to the names in the chat"
   ]
  },
  {
   "cell_type": "code",
   "execution_count": null,
   "id": "6293224e",
   "metadata": {},
   "outputs": [],
   "source": [
    "# Filter the dataframe for Person_One and Person_Two\n",
    "person_one = 'Person One'\n",
    "person_two = 'Person Two'\n",
    "filtered_df = new_df[new_df['sender'].isin([person_one, person_two])]\n",
    "\n",
    "# Extract the hour and date from the datetime field\n",
    "filtered_df['hour'] = filtered_df['datetime'].dt.hour\n",
    "filtered_df['date'] = filtered_df['datetime'].dt.date\n",
    "\n",
    "# Extract the day of the week from the date field\n",
    "filtered_df['day_of_week'] = filtered_df['datetime'].dt.day_name()"
   ]
  },
  {
   "cell_type": "markdown",
   "id": "dc84453b",
   "metadata": {},
   "source": [
    "`'month_name == \"May\"'` - Change to month to analyze the average number of messages for that month"
   ]
  },
  {
   "cell_type": "code",
   "execution_count": null,
   "id": "a99a5f93",
   "metadata": {},
   "outputs": [],
   "source": [
    "fdf = filtered_df.query('month_name == \"May\"')\n",
    "\n",
    "# Calculate the average number of messages sent per day, by the hour, for Person_One and Person_Two\n",
    "avg_messages_per_hour = filtered_df.groupby(['sender', 'hour', 'date']).size().reset_index(name='message_count')\n",
    "avg_messages_per_hour = avg_messages_per_hour.groupby(['sender', 'hour'])['message_count'].mean().reset_index()\n",
    "\n",
    "# Pivot the data to have senders as separate columns\n",
    "pivot_data = avg_messages_per_hour.pivot(index='hour', columns='sender', values='message_count')\n",
    "\n",
    "# Plot the bar chart\n",
    "pivot_data.plot(kind='bar', figsize=(10, 5), alpha=0.5)\n",
    "plt.grid(True, alpha = 0.05)\n",
    "# Set plot properties\n",
    "plt.xlabel('Hour of the Day', fontsize=8)\n",
    "plt.xticks(fontsize=8)\n",
    "\n",
    "plt.ylabel('Average Number of Messages', fontsize=8)\n",
    "plt.yticks(fontsize=8)\n",
    "\n",
    "plt.title('Average Number of Messages Sent per Day, by Hour', fontsize=8)\n",
    "plt.legend(fontsize=8)\n",
    "\n",
    "# Show the plot\n",
    "plt.show()\n"
   ]
  },
  {
   "cell_type": "markdown",
   "id": "de9b7b61",
   "metadata": {},
   "source": [
    "---\n",
    "## Avg. messages per week"
   ]
  },
  {
   "cell_type": "code",
   "execution_count": null,
   "id": "7ba5fcf8",
   "metadata": {},
   "outputs": [],
   "source": [
    "average_texts = filtered_df.groupby(['month_name', 'sender', 'day_of_week'])['text'].count().reset_index()\n",
    "average_texts = average_texts.pivot_table(index=['month_name', 'day_of_week'], columns='sender', values='text').reset_index()\n",
    "\n",
    "# Group the dataframe by 'day_of_week' and calculate the mean text counts for 'Person_One' and 'Person_Two'\n",
    "average_texts_day = average_texts.groupby('day_of_week')[['Flor Valente', 'John B']].mean()\n",
    "\n",
    "# Reorder the index to start from Monday\n",
    "weekday_order = ['Monday', 'Tuesday', 'Wednesday', 'Thursday', 'Friday', 'Saturday', 'Sunday']\n",
    "average_texts_day = average_texts_day.reindex(weekday_order)\n",
    "\n",
    "# Plot the bar chart\n",
    "average_texts_day.plot(kind='bar', figsize=(10, 5), rot=0, alpha=0.5)\n",
    "\n",
    "# Set plot properties\n",
    "plt.grid(True, alpha=0.05)\n",
    "\n",
    "plt.xlabel('Day of Week', fontsize=8)\n",
    "plt.xticks(fontsize=8)\n",
    "\n",
    "plt.ylabel('Avg. count of messages', fontsize=8)\n",
    "plt.yticks(fontsize=8)\n",
    "\n",
    "plt.title('Avg. count of msgs by week', fontsize=8)\n",
    "plt.legend(fontsize=8)\n",
    "\n",
    "# Show the plot\n",
    "plt.show()\n"
   ]
  },
  {
   "cell_type": "markdown",
   "id": "320dbe67",
   "metadata": {},
   "source": [
    "Update the senders, Person One and Person Two"
   ]
  },
  {
   "cell_type": "code",
   "execution_count": null,
   "id": "1dc71b83",
   "metadata": {},
   "outputs": [],
   "source": [
    "# Filter the dataframe for Person_One and Person_Two\n",
    "person_one_data = new_df[new_df['sender'] == 'Person One']\n",
    "person_two_data = new_df[new_df['sender'] == 'Person Two']\n",
    "\n",
    "# Find the date where Person_One messaged the most\n",
    "person_one_most_messages_date = person_one_data['date'].value_counts().idxmax()\n",
    "person_one_messages_count = person_one_data['date'].value_counts().max()\n",
    "\n",
    "# Find the date where Person_Two messaged the most\n",
    "person_two_most_messages_date = person_two_data['date'].value_counts().idxmax()\n",
    "person_two_messages_count = person_two_data['date'].value_counts().max()\n",
    "\n",
    "print(\"Date with the most messages for Person One:\", person_one_most_messages_date,'They sent'\n",
    "      , person_one_messages_count, 'messages.')\n",
    "\n",
    "print(\"\\nDate with the most messages for Person Two:\", person_two_most_messages_date, 'They sent',\n",
    "     person_two_messages_count, 'messages.\\n')\n",
    "\n",
    "print('-'*50)\n",
    "target_date = '2023-04-10'  # Replace with your desired date\n",
    "\n",
    "# Filter the dataframe for the target date and Person_One and Person_Two\n",
    "get_sentiment = new_df[new_df['date'] == target_date]\n",
    "person_one_data = get_sentiment[get_sentiment['sender'] == 'Person One]\n",
    "person_two_data = get_sentiment[get_sentiment['sender'] == 'Person Two']"
   ]
  },
  {
   "cell_type": "markdown",
   "id": "eebbd7b5",
   "metadata": {},
   "source": [
    "---\n",
    "## Other info\n",
    "\n",
    "- Who writes the most\n",
    "- Most active chat date\n",
    "- Other stats\n",
    "- Avg. messages per person"
   ]
  },
  {
   "cell_type": "code",
   "execution_count": null,
   "id": "d00174da",
   "metadata": {},
   "outputs": [],
   "source": [
    "# Extract the number of words from the text column\n",
    "df['num_words'] = new_df['text'].str.split().str.len()\n",
    "\n",
    "# Calculate the average number of words per message for each sender\n",
    "avg_words_per_message = df.groupby('sender')['num_words'].mean()\n",
    "\n",
    "# Find the sender with the highest average number of words per message\n",
    "sender_with_most_words = avg_words_per_message.idxmax()\n",
    "\n",
    "# Display the result\n",
    "print(\"Sender with the highest average number of words per message:\", sender_with_most_words)"
   ]
  },
  {
   "cell_type": "code",
   "execution_count": null,
   "id": "855845d6",
   "metadata": {},
   "outputs": [],
   "source": [
    "avg_words_per_message.plot(kind='bar', grid=True, figsize=(10, 5), alpha=0.25, rot=360, fontsize=8)\n",
    "\n",
    "plt.grid(True, alpha=0.05)\n",
    "plt.title(\"Average count of words per message\", fontsize=8)\n",
    "plt.ylabel('Avg. count of words per message', fontsize=8)\n",
    "plt.xlabel('', fontsize=8)\n",
    "plt.legend(fontsize=8)\n",
    "plt.show()"
   ]
  },
  {
   "cell_type": "code",
   "execution_count": null,
   "id": "a0682222",
   "metadata": {},
   "outputs": [],
   "source": [
    "# Group the dataframe by date and calculate the total messages for each day\n",
    "daily_messages = new_df.groupby('date')['sender'].count()\n",
    "\n",
    "# Find the day with the highest total messages\n",
    "day_with_highest_messages = daily_messages.idxmax()\n",
    "highest_messages_count = daily_messages.max()\n",
    "\n",
    "print(\"Day with the highest total messages:\", day_with_highest_messages.date())\n",
    "print(\"Total number of messages on that day:\", highest_messages_count)"
   ]
  },
  {
   "cell_type": "code",
   "execution_count": null,
   "id": "f2059fa1",
   "metadata": {},
   "outputs": [],
   "source": [
    "\n",
    "min_date = new_df['date'].min()  # Find the minimum date\n",
    "max_date = new_df['date'].max()  # Find the maximum date\n",
    "\n",
    "total_days_chat = new_df['date'].dt.date.nunique()\n",
    "\n",
    "total_days = (max_date - min_date).days  # Calculate the total number of days\n",
    "\n",
    "act_total_days = total_days  # Assign the total number of days to the variable 'act_total_days'\n",
    "\n",
    "tot_pct = (total_days_chat/act_total_days)*100\n",
    "\n",
    "print(\"First Chat Date:\", min_date.date())\n",
    "print(\"Last Chat Date:\", max_date.date())\n",
    "print(\"Total Days in Chat:\", total_days_chat)\n",
    "print(\"Actual Days:\", act_total_days)\n",
    "print(f\"Percentage of days communication: {tot_pct:.2f}%\")\n"
   ]
  },
  {
   "cell_type": "code",
   "execution_count": null,
   "id": "363cd400",
   "metadata": {},
   "outputs": [],
   "source": [
    "result = df.groupby(['date', 'sender']).size().reset_index(name='message_count')\n",
    "average_message_count = result.groupby('sender')['message_count'].mean()\n",
    "\n",
    "print('Messages sent per person\\n',average_message_count.to_string())"
   ]
  },
  {
   "cell_type": "code",
   "execution_count": null,
   "id": "c680a653",
   "metadata": {
    "scrolled": false
   },
   "outputs": [],
   "source": [
    "new_df.query('text.str.contains(\"some text here\", case=False, na=False)')\n",
    "#new_df.query('date == \"2023-05-08\"')[21:50]"
   ]
  },
  {
   "cell_type": "markdown",
   "id": "fc6e6911",
   "metadata": {},
   "source": [
    "### Timeline\n",
    "---"
   ]
  },
  {
   "cell_type": "markdown",
   "id": "3013f00e",
   "metadata": {},
   "source": [
    "`dates`: Update date variable with dates. They should be equal to the `labels` which consists of the labels or event names."
   ]
  },
  {
   "cell_type": "code",
   "execution_count": null,
   "id": "c4cd1349",
   "metadata": {},
   "outputs": [],
   "source": [
    "import matplotlib.pyplot as plt\n",
    "from datetime import date, timedelta\n",
    "import numpy as np\n",
    "\n",
    "dates = [\n",
    "    date(2021, 6, 19), date(2012, 9, 10), date(2012, 10, 29), date(2020, 1, 8),\n",
    "    date(2020, 3, 9), date(2013, 7, 11), date(2030, 4, 9),\n",
    "    date(2019, 5, 4), date(2013, 5, 1), date(2013, 6, 1), date(2013, 6, 2),\n",
    "    date(2012, 7, 12)\n",
    "]\n",
    "\n",
    "min_date = date(np.min(dates).year - 2, np.min(dates).month, np.min(dates).day)\n",
    "max_date = date(np.max(dates).year + 2, np.max(dates).month, np.max(dates).day)\n",
    "\n",
    "labels = [\n",
    "    'Event One', 'Event Two', 'Event Three', 'Event Four', 'Event Five', 'Event Six',\n",
    "    'Event Seven', 'Event Eight', 'Event Nine', 'Event Ten', 'Event Twelve',\n",
    "    'Event Thirteen'\n",
    "]\n",
    "\n",
    "# labels with associated dates\n",
    "labels = ['{0:%d %b %Y}:\\n{1}'.format(d, l) for l, d in zip(labels, dates)]\n",
    "\n",
    "fig, ax = plt.subplots(figsize=(15, 4), constrained_layout=True)\n",
    "ax.set_ylim(-2, 2.75)\n",
    "ax.set_xlim(min_date, max_date)\n",
    "ax.axhline(0, xmin=0.05, xmax=0.97, c='black', zorder=1)\n",
    "\n",
    "# Calculate desired spacing between events\n",
    "days_range = (max_date - min_date).days\n",
    "spacing = timedelta(days=days_range / (len(dates) + 1))\n",
    "\n",
    "scatter_x = [min_date + (i + 1) * spacing for i in range(len(dates))]\n",
    "\n",
    "ax.scatter(scatter_x, np.zeros(len(dates)), s=120, c='palevioletred', zorder=2)\n",
    "ax.scatter(scatter_x, np.zeros(len(dates)), s=30, c='darkmagenta', zorder=3)\n",
    "\n",
    "label_offsets = np.zeros(len(dates))\n",
    "label_offsets[::2] = 0.45\n",
    "label_offsets[1::2] = -0.75\n",
    "\n",
    "for i, (l, d) in enumerate(zip(labels, dates)):\n",
    "    x_pos = min_date + (i + 1) * spacing\n",
    "    ax.text(x_pos, label_offsets[i], l, ha='center', fontweight='bold', color='black', fontsize=12)\n",
    "    stems = np.zeros(len(dates))\n",
    "    stems[::2] = 0.3\n",
    "    stems[1::2] = -0.3\n",
    "    _ = ax.stem([x_pos], [stems[i]], linefmt=':', basefmt=' ', markerfmt=',', bottom=0.0, label='_nolegend_')\n",
    "\n",
    "# hide lines around chart\n",
    "for spine in [\"left\", \"top\", \"right\", \"bottom\"]:\n",
    "    ax.spines[spine].set_visible(False)\n",
    "\n",
    "# hide tick labels\n",
    "ax.set_xticks([])\n",
    "ax.set_yticks([])\n",
    "\n",
    "ax.set_title('The Timeline', fontweight=\"bold\", fontsize=16, color='royalblue')\n",
    "\n",
    "plt.show()\n"
   ]
  },
  {
   "cell_type": "code",
   "execution_count": null,
   "id": "c8809a51",
   "metadata": {},
   "outputs": [],
   "source": [
    "pct_meets = len(labels)/act_total_days\n",
    "pct_meets = pct_meets * 100\n",
    "\n",
    "print(f\"Percentage of rendezvous: {pct_meets:.2f}%\")"
   ]
  },
  {
   "cell_type": "markdown",
   "id": "df50a275",
   "metadata": {},
   "source": [
    "---\n",
    "### Emojis"
   ]
  },
  {
   "cell_type": "code",
   "execution_count": null,
   "id": "4824ca44",
   "metadata": {},
   "outputs": [],
   "source": [
    "import emoji\n",
    "\n",
    "# Assuming the DataFrame is already loaded as new_df\n",
    "\n",
    "# Function to count the number of emojis in a text\n",
    "def count_emojis(text):\n",
    "    return len([c for c in text if c in emoji.EMOJI_DATA])\n",
    "\n",
    "# Apply the count_emojis function to the 'text' column and create a new column for emoji counts\n",
    "new_df['emoji_count'] = new_df['text'].apply(count_emojis)\n",
    "\n",
    "# Group data by sender and sum the emoji counts\n",
    "sender_emoji_counts = new_df.groupby('sender')['emoji_count'].sum()\n",
    "\n",
    "# Find the sender who sends the most emojis\n",
    "sender_with_most_emojis = sender_emoji_counts.idxmax()\n",
    "most_emojis_count = sender_emoji_counts.max()\n",
    "\n",
    "print(f\"The sender who sends the most emojis is: {sender_with_most_emojis}\")\n",
    "print(f\"They sent a total of {most_emojis_count} emojis.\")\n"
   ]
  },
  {
   "cell_type": "code",
   "execution_count": null,
   "id": "0f5c3ab0",
   "metadata": {},
   "outputs": [],
   "source": [
    "sender_emoji_counts.plot(kind='bar', grid=True, figsize=(10, 5), alpha=0.25, rot=360, fontsize=8)\n",
    "\n",
    "plt.grid(True, alpha=0.05)\n",
    "plt.title(\"Count of total Emojis\", fontsize=8)\n",
    "plt.xlabel('Count of Emojis', fontsize=8)\n",
    "plt.ylabel('Sender', fontsize=8)\n",
    "plt.show()"
   ]
  },
  {
   "cell_type": "code",
   "execution_count": null,
   "id": "c6d02bc0",
   "metadata": {},
   "outputs": [],
   "source": [
    "emoji_counts_per_month = new_df.groupby('month_name')['emoji_count'].sum()\n",
    "\n",
    "emoji_counts_per_month.plot(kind='bar', grid=True, figsize=(10, 5), alpha=0.25, rot=360, fontsize=8)\n",
    "\n",
    "plt.grid(True, alpha=0.05)\n",
    "plt.title(\"Count of total Emojis\", fontsize=8)\n",
    "plt.xlabel('Count of Emojis', fontsize=8)\n",
    "plt.ylabel('Sender', fontsize=8)\n",
    "plt.show()"
   ]
  },
  {
   "cell_type": "code",
   "execution_count": null,
   "id": "49e05a04",
   "metadata": {},
   "outputs": [],
   "source": [
    "# Apply the count_emojis function to the 'text' column and create a new column for emoji counts\n",
    "new_df['emoji_count'] = new_df['text'].apply(count_emojis)\n",
    "\n",
    "# Group data by month_name and sender, and sum the emoji counts for each month and sender\n",
    "emoji_counts_per_month_sender = new_df.groupby(['month_name', 'sender'])['emoji_count'].sum()\n",
    "\n",
    "# Reshape the data to have month_name as columns and sender as rows\n",
    "emoji_counts_per_month_sender = emoji_counts_per_month_sender.unstack(level='sender', fill_value=0)\n",
    "\n",
    "# Plot the count of emojis for each sender in each month\n",
    "emoji_counts_per_month_sender.plot(kind='bar', grid=True, figsize=(10, 5), alpha=0.7, rot=45, fontsize=8)\n",
    "\n",
    "plt.grid(True, alpha=0.3)\n",
    "plt.title(\"Count of Emojis per Sender per Month\", fontsize=8)\n",
    "plt.xlabel('Month', fontsize=8)\n",
    "plt.ylabel('Count of Emojis', fontsize=8)\n",
    "plt.legend(title='Sender', fontsize=8, title_fontsize=8)\n",
    "plt.show()\n"
   ]
  },
  {
   "cell_type": "code",
   "execution_count": null,
   "id": "2220cbef",
   "metadata": {},
   "outputs": [],
   "source": []
  }
 ],
 "metadata": {
  "kernelspec": {
   "display_name": "Python 3 (ipykernel)",
   "language": "python",
   "name": "python3"
  },
  "language_info": {
   "codemirror_mode": {
    "name": "ipython",
    "version": 3
   },
   "file_extension": ".py",
   "mimetype": "text/x-python",
   "name": "python",
   "nbconvert_exporter": "python",
   "pygments_lexer": "ipython3",
   "version": "3.11.3"
  }
 },
 "nbformat": 4,
 "nbformat_minor": 5
}
